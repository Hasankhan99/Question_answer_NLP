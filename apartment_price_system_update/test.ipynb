{
 "cells": [
  {
   "cell_type": "code",
   "execution_count": 1,
   "metadata": {},
   "outputs": [],
   "source": [
    "import pandas as pd\n",
    "import time\n",
    "import sqlite3\n",
    "from langchain.embeddings.openai import OpenAIEmbeddings\n",
    "import os\n",
    "from langchain.vectorstores import FAISS\n",
    "\n",
    "conn=sqlite3.connect('tem.db')\n",
    "\n",
    "def load_db():\n",
    "    print(\"start time:\",time.ctime())\n",
    "    conn=sqlite3.connect('tem.db')\n",
    "    cursor = conn.cursor()\n",
    "    cursor.execute(\"SELECT name FROM sqlite_master WHERE type='table';\")\n",
    "    tables = cursor.fetchall()\n",
    "    tables=[i[0] for i in tables]\n",
    "    print(tables)\n",
    "    return tables"
   ]
  },
  {
   "cell_type": "code",
   "execution_count": 2,
   "metadata": {},
   "outputs": [],
   "source": [
    "from googletrans import Translator\n",
    "ids=[]\n",
    "dataframes=[]\n",
    "meta_data=pd.DataFrame(columns=['object identifier'])"
   ]
  },
  {
   "cell_type": "code",
   "execution_count": 3,
   "metadata": {},
   "outputs": [
    {
     "name": "stdout",
     "output_type": "stream",
     "text": [
      "start time: Wed Sep 20 10:11:49 2023\n",
      "['building_code', 'apartment_information', 'apartment_price', 'apartment_property']\n"
     ]
    }
   ],
   "source": [
    "for i in load_db():\n",
    "    df=pd.read_sql_query(\"SELECT * FROM \"+i,conn)\n",
    "    \n",
    "    drop=[i for i in df.columns if 'noname' in i]\n",
    "    df.drop(drop,axis=1,inplace=True)\n",
    "    columns=[Translator().translate(i,dest='en').text for i in df.columns]\n",
    "    # df.columns=columns\n",
    "    if 'object identifier' not in columns:\n",
    "        continue\n",
    "    df=df.rename(columns={i:j for i,j in zip(df.columns,columns)})\n",
    "    df['object identifier']=df['object identifier'].apply(lambda x:x.replace(' ','') if x else x)\n",
    "    dataframes.append(df)\n",
    "    ids=ids+df['object identifier'].tolist()\n",
    "ids=list(set(ids))\n",
    "\n"
   ]
  },
  {
   "cell_type": "code",
   "execution_count": 4,
   "metadata": {},
   "outputs": [],
   "source": [
    "meta_data['object identifier']=ids\n",
    "for i in dataframes:\n",
    "    meta_data=pd.merge(meta_data,i,on='object identifier',how='left')\n",
    "meta_data.rename(columns={'daily trading':'price'},inplace=True)\n",
    "meta_data.drop_duplicates(subset=['object identifier'],inplace=True,keep='last')\n",
    "meta_data.dropna(subset=['Basic road address'],inplace=True)\n",
    "\n"
   ]
  },
  {
   "cell_type": "code",
   "execution_count": 36,
   "metadata": {},
   "outputs": [],
   "source": [
    "meta_data.to_csv('docs/full.csv',index=False,encoding='utf-8-sig')\n",
    "filter_data=meta_data[['Basic road address','Market price closing date','Minimum selling price','Half transaction price every day','Sale limit','Is it the lowest price for jeonse?','Jeonse general transaction price','Is it all over the world?']]"
   ]
  },
  {
   "cell_type": "code",
   "execution_count": null,
   "metadata": {},
   "outputs": [],
   "source": [
    "filter_data.to_csv('docs/filter.csv',index=False,encoding='utf-8-sig')"
   ]
  },
  {
   "cell_type": "code",
   "execution_count": 53,
   "metadata": {},
   "outputs": [],
   "source": [
    "from langchain.document_loaders.csv_loader import CSVLoader\n",
    "loader=CSVLoader('docs/filter.csv')\n",
    "data=loader.load()"
   ]
  },
  {
   "cell_type": "code",
   "execution_count": 54,
   "metadata": {},
   "outputs": [],
   "source": [
    "embeddings = OpenAIEmbeddings()\n",
    "db = FAISS.from_documents(data, embeddings)"
   ]
  },
  {
   "cell_type": "code",
   "execution_count": 55,
   "metadata": {},
   "outputs": [],
   "source": [
    "db.save_local('docs/faiss2.db')"
   ]
  },
  {
   "cell_type": "code",
   "execution_count": 56,
   "metadata": {},
   "outputs": [
    {
     "data": {
      "text/plain": [
       "[Document(page_content='\\ufeffBasic road address: 서울특별시 강남구 도곡로57길 12\\nMarket price closing date: 20230915\\nMinimum selling price: 222500\\nHalf transaction price every day: 230000\\nSale limit: 237500\\nIs it the lowest price for jeonse?: 130000\\nJeonse general transaction price: 135000\\nIs it all over the world?: 140000', metadata={'source': 'docs/filter.csv', 'row': 17364}),\n",
       " Document(page_content='\\ufeffBasic road address: 서울특별시 강남구 도곡로93길 12\\nMarket price closing date: 20230915\\nMinimum selling price: 285000\\nHalf transaction price every day: 295000\\nSale limit: 305000\\nIs it the lowest price for jeonse?: 205000\\nJeonse general transaction price: 215000\\nIs it all over the world?: 225000', metadata={'source': 'docs/filter.csv', 'row': 19063}),\n",
       " Document(page_content='\\ufeffBasic road address: 서울특별시 강남구 도곡로14길 12\\nMarket price closing date: 20230915\\nMinimum selling price: 187500\\nHalf transaction price every day: 192500\\nSale limit: 197500\\nIs it the lowest price for jeonse?: 92500\\nJeonse general transaction price: 96500\\nIs it all over the world?: 100000', metadata={'source': 'docs/filter.csv', 'row': 16006})]"
      ]
     },
     "execution_count": 56,
     "metadata": {},
     "output_type": "execute_result"
    }
   ],
   "source": [
    "db.similarity_search('서울특별시 강남구 도곡로57길 12', k=3)"
   ]
  },
  {
   "cell_type": "code",
   "execution_count": 71,
   "metadata": {},
   "outputs": [],
   "source": [
    "from langchain.chat_models import ChatOpenAI\n",
    "from langchain.memory import ConversationBufferMemory\n",
    "from langchain.chains import ConversationalRetrievalChain\n",
    "memory = ConversationBufferMemory(memory_key=\"chat_history\", return_messages=True)\n",
    "from langchain.prompts.prompt import PromptTemplate\n",
    "\n",
    "\n",
    "custom_template = \"\"\"given the following information is about apartments data your task is to \\\n",
    "analyze the documents:{documents} \n",
    "and answer the following questions. \\\n",
    "question:{question} \\,\n",
    "\n",
    "you can also get some information from chat history:{chat_history} \\,\n",
    "answer:\"\"\"\n",
    "CUSTOM_QUESTION_PROMPT = PromptTemplate.from_template(custom_template)"
   ]
  },
  {
   "cell_type": "code",
   "execution_count": 81,
   "metadata": {},
   "outputs": [],
   "source": [
    "model = ChatOpenAI(model_name=\"gpt-3.5-turbo\", temperature=0.3)\n",
    "embeddings = OpenAIEmbeddings()\n",
    "\n",
    "memory = ConversationBufferMemory(memory_key=\"chat_history\", return_messages=True)\n",
    "qa = ConversationalRetrievalChain.from_llm(\n",
    "    model,\n",
    "    db.as_retriever(searchtype=\"similarity_search\", k=5),\n",
    "    memory=memory)"
   ]
  },
  {
   "cell_type": "code",
   "execution_count": 83,
   "metadata": {},
   "outputs": [
    {
     "name": "stdout",
     "output_type": "stream",
     "text": [
      "인천광역시 남동구 에코중앙로 163의 가격은 다음과 같습니다:\n",
      "- 최소 판매 가격: 60000\n",
      "- 매일 절반 거래 가격: 64000\n",
      "- 판매 제한 가격: 67000\n",
      "- 전세 최저 가격인가요?: 44000\n",
      "- 전세 일반 거래 가격: 46000\n",
      "- 전세 가격이 전세 시장 가격인가요?: 48500\n"
     ]
    }
   ],
   "source": [
    "query = \"인천광역시 남동구 에코중앙로 163 가격은 어떻습니까?\"\n",
    "result = qa({\"question\": query})    \n",
    "print(result['answer'])"
   ]
  },
  {
   "cell_type": "code",
   "execution_count": 65,
   "metadata": {},
   "outputs": [
    {
     "data": {
      "text/plain": [
       "[Document(page_content='\\ufeffBasic road address: 경기도 안양시 동안구 시민대로327번길 55\\nMarket price closing date: 20230915\\nMinimum selling price: 150000\\nHalf transaction price every day: 155000\\nSale limit: 160000\\nIs it the lowest price for jeonse?: 85000\\nJeonse general transaction price: 89000\\nIs it all over the world?: 92500', metadata={'source': 'docs/filter.csv', 'row': 6})]"
      ]
     },
     "execution_count": 65,
     "metadata": {},
     "output_type": "execute_result"
    }
   ],
   "source": [
    "db.similarity_search('경기도 안양시 동안구 시민대로327번길 55', k=1)"
   ]
  },
  {
   "cell_type": "markdown",
   "metadata": {},
   "source": [
    "try with agent"
   ]
  },
  {
   "cell_type": "code",
   "execution_count": null,
   "metadata": {},
   "outputs": [],
   "source": [
    "from langchain.agents.agent_toolkits import create_retriever_tool\n",
    "tool = create_retriever_tool(\n",
    "    db.as_retriever(),\n",
    "    \"SearchPrice\",\n",
    "    \"Searches prices and information about apartments and return consice results.\"\n",
    ")\n",
    "tools = [tool]"
   ]
  },
  {
   "cell_type": "code",
   "execution_count": null,
   "metadata": {},
   "outputs": [],
   "source": [
    "from langchain.agents.agent_toolkits import create_conversational_retrieval_agent\n",
    "from langchain.chat_models import ChatOpenAI\n",
    "llm = ChatOpenAI(temperature = 0)"
   ]
  },
  {
   "cell_type": "code",
   "execution_count": null,
   "metadata": {},
   "outputs": [],
   "source": [
    "agent_executor = create_conversational_retrieval_agent(llm, tools, verbose=True)"
   ]
  },
  {
   "cell_type": "code",
   "execution_count": null,
   "metadata": {},
   "outputs": [],
   "source": [
    "result = agent_executor({\"input\": \"이 주소의 개체 식별자는 무엇입니까:서울특별시 강남구 도곡로57길 12\"})\n",
    "result['output']"
   ]
  },
  {
   "cell_type": "code",
   "execution_count": null,
   "metadata": {},
   "outputs": [],
   "source": [
    "result['output']"
   ]
  },
  {
   "cell_type": "code",
   "execution_count": 22,
   "metadata": {},
   "outputs": [],
   "source": [
    "from langchain.llms import OpenAI   \n",
    "from langchain.chat_models import ChatOpenAI\n",
    "from langchain.agents.agent_types import AgentType\n",
    "\n",
    "from langchain.agents import create_csv_agent"
   ]
  },
  {
   "cell_type": "code",
   "execution_count": 47,
   "metadata": {},
   "outputs": [],
   "source": [
    "df=pd.read_csv('docs/filter.csv',encoding='utf-8-sig')\n",
    "agent = create_csv_agent(\n",
    "    OpenAI(temperature=0),\n",
    "    \"docs/filter.csv\",\n",
    "    verbose=True,\n",
    "    agent_type=AgentType.ZERO_SHOT_REACT_DESCRIPTION,\n",
    ")"
   ]
  },
  {
   "cell_type": "code",
   "execution_count": 49,
   "metadata": {},
   "outputs": [
    {
     "name": "stdout",
     "output_type": "stream",
     "text": [
      "\n",
      "\n",
      "\u001b[1m> Entering new AgentExecutor chain...\u001b[0m\n",
      "\u001b[32;1m\u001b[1;3mThought: 내가 찾고자 하는 값이 데이터프레임에 있는지 확인해야 한다.\n",
      "Action: python_repl_ast\n",
      "Action Input: df[df['Basic road address'] == '충청남도 공주시관골2길 24-29']\u001b[0m\n",
      "Observation: \u001b[36;1m\u001b[1;3mEmpty DataFrame\n",
      "Columns: [Basic road address, Market price closing date, Minimum selling price, Half transaction price every day, Sale limit, Is it the lowest price for jeonse?, Jeonse general transaction price, Is it all over the world?]\n",
      "Index: []\u001b[0m\n",
      "Thought:\u001b[32;1m\u001b[1;3m 데이터프레임에 없으므로 이 값은 없는 것 같다.\n",
      "Final Answer: 충청남도 공주시관골2길 24-29 가격은 없습니다.\u001b[0m\n",
      "\n",
      "\u001b[1m> Finished chain.\u001b[0m\n"
     ]
    },
    {
     "data": {
      "text/plain": [
       "'충청남도 공주시관골2길 24-29 가격은 없습니다.'"
      ]
     },
     "execution_count": 49,
     "metadata": {},
     "output_type": "execute_result"
    }
   ],
   "source": [
    "agent.run(\"충청남도 공주시관골2길 24-29 가격은 얼마인가요?\")"
   ]
  },
  {
   "cell_type": "code",
   "execution_count": null,
   "metadata": {},
   "outputs": [],
   "source": []
  },
  {
   "cell_type": "code",
   "execution_count": null,
   "metadata": {},
   "outputs": [],
   "source": []
  }
 ],
 "metadata": {
  "kernelspec": {
   "display_name": "hs",
   "language": "python",
   "name": "python3"
  },
  "language_info": {
   "codemirror_mode": {
    "name": "ipython",
    "version": 3
   },
   "file_extension": ".py",
   "mimetype": "text/x-python",
   "name": "python",
   "nbconvert_exporter": "python",
   "pygments_lexer": "ipython3",
   "version": "3.11.5"
  },
  "orig_nbformat": 4
 },
 "nbformat": 4,
 "nbformat_minor": 2
}
